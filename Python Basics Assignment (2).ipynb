{
 "cells": [
  {
   "cell_type": "code",
   "execution_count": 14,
   "id": "dc1b5425-33c1-45a2-a726-fcc08a5138f0",
   "metadata": {},
   "outputs": [
    {
     "name": "stdout",
     "output_type": "stream",
     "text": [
      "Value of x after swapping is  20  and Value of y after swapping is  10\n"
     ]
    }
   ],
   "source": [
    "#Python Basics Variable\n",
    "#Q1\n",
    "x=10\n",
    "y=20\n",
    "x=x+y\n",
    "y=x-y\n",
    "x=x-y\n",
    "print(\"Value of x after swapping is \", x , \" and Value of y after swapping is \", y)"
   ]
  },
  {
   "cell_type": "code",
   "execution_count": 1,
   "id": "e512dc28-ac7f-4383-8667-26fa680f2156",
   "metadata": {},
   "outputs": [
    {
     "name": "stdin",
     "output_type": "stream",
     "text": [
      "Enter the lenght of rectangle = 20\n",
      "Enter the lenght of breadth = 10\n"
     ]
    },
    {
     "name": "stdout",
     "output_type": "stream",
     "text": [
      "Area of rectange is  200.0\n"
     ]
    }
   ],
   "source": [
    "#Python Basics Variable\n",
    "#Q2\n",
    "lenght=float(input(\"Enter the lenght of rectangle =\"))\n",
    "breadth=float(input(\"Enter the lenght of breadth =\"))\n",
    "print(\"Area of rectange is \",lenght*breadth)"
   ]
  },
  {
   "cell_type": "code",
   "execution_count": 3,
   "id": "dedb043a-a581-4eea-b2d4-01bfe8e4bb4d",
   "metadata": {},
   "outputs": [
    {
     "name": "stdin",
     "output_type": "stream",
     "text": [
      "Enter the temperature in celcius 23\n"
     ]
    },
    {
     "name": "stdout",
     "output_type": "stream",
     "text": [
      "converted value of celcius to farenhite is  73.4\n"
     ]
    }
   ],
   "source": [
    "#Python Basics Variable\n",
    "#Q3\n",
    "tempInCel=float(input(\"Enter the temperature in celcius\"))\n",
    "tempInFaren=(tempInCel*(9/5))+32\n",
    "print(\"converted value of celcius to farenhite is \",tempInFaren)"
   ]
  },
  {
   "cell_type": "code",
   "execution_count": 8,
   "id": "4011b918-9983-4d0d-a10b-373028981941",
   "metadata": {},
   "outputs": [
    {
     "name": "stdin",
     "output_type": "stream",
     "text": [
      "Enter the string vishal\n"
     ]
    },
    {
     "name": "stdout",
     "output_type": "stream",
     "text": [
      "length of the string is  6\n"
     ]
    }
   ],
   "source": [
    "#String Based Questions\n",
    "#Q1\n",
    "lengthOfString=input(\"Enter the string\")\n",
    "print(\"length of the string is \",len(lengthOfString))"
   ]
  },
  {
   "cell_type": "code",
   "execution_count": 5,
   "id": "c41d451e-7ccd-4ce0-a341-b8a1f269a561",
   "metadata": {},
   "outputs": [
    {
     "name": "stdin",
     "output_type": "stream",
     "text": [
      "Enter the sentence vishal kamble\n"
     ]
    },
    {
     "name": "stdout",
     "output_type": "stream",
     "text": [
      "Number of  vowels present is = 4\n"
     ]
    }
   ],
   "source": [
    "#String Based Questions\n",
    "#Q2\n",
    "input_string=(input(\"Enter the sentence\")).lower()\n",
    "count=0\n",
    "for i in input_string:\n",
    "    if(i==\"a\" or i==\"e\"or i==\"i\"or i==\"o\" or i==\"u\"):\n",
    "        count+=1\n",
    "if(count==0):\n",
    "    print(\"No vowels present\")\n",
    "else:\n",
    "    print(\"Number of  vowels present is =\",count)\n",
    "    "
   ]
  },
  {
   "cell_type": "code",
   "execution_count": 6,
   "id": "70f6691b-29bf-4b70-b394-106c8dcb0222",
   "metadata": {},
   "outputs": [
    {
     "name": "stdin",
     "output_type": "stream",
     "text": [
      "Enter the sentence vishal kamble\n"
     ]
    },
    {
     "name": "stdout",
     "output_type": "stream",
     "text": [
      "elbmak lahsiv\n"
     ]
    }
   ],
   "source": [
    "#String Based Questions\n",
    "#Q3\n",
    "input_string=input(\"Enter the sentence\")\n",
    "lenth=len(input_string)\n",
    "print(input_string[slice(lenth,-(lenth+1),-1)])"
   ]
  },
  {
   "cell_type": "code",
   "execution_count": 10,
   "id": "3b5cdb2e-e3b2-4b72-a61b-6c78e5f2ce72",
   "metadata": {},
   "outputs": [
    {
     "name": "stdin",
     "output_type": "stream",
     "text": [
      "Enter the sentence vishal\n"
     ]
    },
    {
     "name": "stdout",
     "output_type": "stream",
     "text": [
      "Not palindrome\n"
     ]
    }
   ],
   "source": [
    "#String Based Questions\n",
    "#Q4\n",
    "input_string=(input(\"Enter the sentence\")).lower()\n",
    "if(input_string==input_string[::-1]):\n",
    "    print(\"palindrome\")\n",
    "else:\n",
    "    print(\"Not palindrome\")"
   ]
  },
  {
   "cell_type": "code",
   "execution_count": 13,
   "id": "aa6452ca-c541-4cb3-ad50-3756cdd2fcf7",
   "metadata": {},
   "outputs": [
    {
     "name": "stdin",
     "output_type": "stream",
     "text": [
      "Enter the sentence    vishal   kamble   \n"
     ]
    },
    {
     "name": "stdout",
     "output_type": "stream",
     "text": [
      "vishalkamble\n"
     ]
    }
   ],
   "source": [
    "#String Based Questions\n",
    "#Q5\n",
    "input_string=input(\"Enter the sentence\")\n",
    "print(input_string.replace(\" \",\"\"))"
   ]
  }
 ],
 "metadata": {
  "kernelspec": {
   "display_name": "Python 3 (ipykernel)",
   "language": "python",
   "name": "python3"
  },
  "language_info": {
   "codemirror_mode": {
    "name": "ipython",
    "version": 3
   },
   "file_extension": ".py",
   "mimetype": "text/x-python",
   "name": "python",
   "nbconvert_exporter": "python",
   "pygments_lexer": "ipython3",
   "version": "3.10.8"
  }
 },
 "nbformat": 4,
 "nbformat_minor": 5
}
